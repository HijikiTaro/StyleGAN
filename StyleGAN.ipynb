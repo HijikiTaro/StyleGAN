{
  "nbformat": 4,
  "nbformat_minor": 0,
  "metadata": {
    "colab": {
      "name": "use-StyleGAN.ipynb",
      "version": "0.3.2",
      "provenance": []
    },
    "kernelspec": {
      "name": "python3",
      "display_name": "Python 3"
    },
    "accelerator": "GPU"
  },
  "cells": [
    {
      "cell_type": "code",
      "metadata": {
        "id": "zOXD0irF53W4",
        "colab_type": "code",
        "colab": {}
      },
      "source": [
        "from google.colab import drive\n",
        "drive.mount('/content/drive')"
      ],
      "execution_count": 0,
      "outputs": []
    },
    {
      "cell_type": "code",
      "metadata": {
        "id": "8_UKEXpR6muM",
        "colab_type": "code",
        "colab": {}
      },
      "source": [
        "cd drive/My Drive"
      ],
      "execution_count": 0,
      "outputs": []
    },
    {
      "cell_type": "code",
      "metadata": {
        "id": "DTgeKDJt6wci",
        "colab_type": "code",
        "colab": {}
      },
      "source": [
        "!git clone https://github.com/NVlabs/stylegan.git"
      ],
      "execution_count": 0,
      "outputs": []
    },
    {
      "cell_type": "code",
      "metadata": {
        "id": "ejlfNUoI6ySn",
        "colab_type": "code",
        "colab": {}
      },
      "source": [
        "cd stylegan"
      ],
      "execution_count": 0,
      "outputs": []
    },
    {
      "cell_type": "code",
      "metadata": {
        "id": "tDkn9LX49DQo",
        "colab_type": "code",
        "colab": {}
      },
      "source": [
        "import os\n",
        "import pickle\n",
        "import numpy as np\n",
        "import PIL.Image\n",
        "import dnnlib\n",
        "import dnnlib.tflib as tflib\n",
        "import config\n",
        "\n",
        "def main():\n",
        "    # Initialize TensorFlow.\n",
        "    tflib.init_tf()\n",
        "\n",
        "    # Load pre-trained network.\n",
        "    url = 'https://drive.google.com/uc?id=1MEGjdvVpUsu1jB4zrXZN7Y4kBBOzizDQ' # karras2019stylegan-ffhq-1024x1024.pkl\n",
        "    with dnnlib.util.open_url(url, cache_dir=config.cache_dir) as f:\n",
        "        _G, _D, Gs = pickle.load(f)\n",
        "        # _G = Instantaneous snapshot of the generator. Mainly useful for resuming a previous training run.\n",
        "        # _D = Instantaneous snapshot of the discriminator. Mainly useful for resuming a previous training run.\n",
        "        # Gs = Long-term average of the generator. Yields higher-quality results than the instantaneous snapshot.\n",
        "\n",
        "    # Print network details.\n",
        "    Gs.print_layers()\n",
        "\n",
        "    # Pick latent vector.\n",
        "    rnd = np.random.RandomState(100)  # seed = 100\n",
        "    latents0 = rnd.randn(1, Gs.input_shape[1])\n",
        "    latents1 = rnd.randn(1, Gs.input_shape[1])\n",
        "    latents2 = rnd.randn(1, Gs.input_shape[1])\n",
        "    latents3 = rnd.randn(1, Gs.input_shape[1])\n",
        "    latents4 = rnd.randn(1, Gs.input_shape[1])\n",
        "    latents5 = rnd.randn(1, Gs.input_shape[1])\n",
        "    latents6 = rnd.randn(1, Gs.input_shape[1])\n",
        "    \n",
        "    num_split = 39  # 2つのベクトルを39分割\n",
        "    for i in range(40):\n",
        "        latents = latents6+(latents0-latents6)*i/num_split\n",
        "        # Generate image.\n",
        "        fmt = dict(func=tflib.convert_images_to_uint8, nchw_to_nhwc=True)\n",
        "        images = Gs.run(latents, None, truncation_psi=0.7, randomize_noise=True, output_transform=fmt)\n",
        "\n",
        "        # Save image.\n",
        "        os.makedirs(config.result_dir, exist_ok=True)\n",
        "        png_filename = os.path.join(config.result_dir, 'photo'+'{0:04d}'.format(i)+'.png')\n",
        "        PIL.Image.fromarray(images[0], 'RGB').save(png_filename)\n",
        "\n",
        "if __name__ == \"__main__\":\n",
        "    main()"
      ],
      "execution_count": 0,
      "outputs": []
    },
    {
      "cell_type": "code",
      "metadata": {
        "id": "ZkmvC9XN9syt",
        "colab_type": "code",
        "colab": {}
      },
      "source": [
        "from PIL import Image\n",
        "import glob\n",
        " \n",
        "files = sorted(glob.glob('results/*.png'))\n",
        "images = list(map(lambda file: Image.open(file), files))\n",
        "images[0].save('stylegan.gif', save_all=True, \n",
        "               append_images=images[1:], \n",
        "               duration=200, loop=0)"
      ],
      "execution_count": 0,
      "outputs": []
    },
    {
      "cell_type": "code",
      "metadata": {
        "id": "hsiw-OeKBvMS",
        "colab_type": "code",
        "colab": {}
      },
      "source": [
        "import os\n",
        "import pickle\n",
        "import numpy as np\n",
        "import PIL.Image\n",
        "import dnnlib\n",
        "import dnnlib.tflib as tflib\n",
        "import config\n",
        "\n",
        "url_ffhq        = 'https://drive.google.com/uc?id=1MEGjdvVpUsu1jB4zrXZN7Y4kBBOzizDQ' # karras2019stylegan-ffhq-1024x1024.pkl\n",
        "synthesis_kwargs = dict(output_transform=dict(func=tflib.convert_images_to_uint8, nchw_to_nhwc=True), minibatch_size=8)\n",
        "\n",
        "_Gs_cache = dict()\n",
        "\n",
        "def load_Gs(url):\n",
        "    if url not in _Gs_cache:\n",
        "        with dnnlib.util.open_url(url, cache_dir=config.cache_dir) as f:\n",
        "            _G, _D, Gs = pickle.load(f)\n",
        "        _Gs_cache[url] = Gs\n",
        "    return _Gs_cache[url]\n",
        "\n",
        "# ----------------  Style mixing -------------------\n",
        "\n",
        "def draw_style_mixing_figure(png, Gs, w, h, src_seeds, dst_seeds, style_ranges):\n",
        "    print(png)\n",
        "    src_latents = np.stack(np.random.RandomState(seed).randn(Gs.input_shape[1]) for seed in src_seeds)\n",
        "    \n",
        "    d1 = np.random.RandomState(200).randn(Gs.input_shape[1])  # seed = 200 のベクトルを取得\n",
        "    d2 = np.random.RandomState(888).randn(Gs.input_shape[1])  # seed = 888 のベクトルを取得\n",
        "    \n",
        "    dx = (d2 - d1)/3  #　３分割で補間\n",
        "    steps = np.linspace(0,3,4)  # stepsに[0,1,2,3] を代入\n",
        "    dst_latents = np.stack((d1+dx*step) for step in steps)  # dst_latents にベクトルを４つスタック\n",
        "        \n",
        "    src_dlatents = Gs.components.mapping.run(src_latents, None) # [seed, layer, component]\n",
        "    dst_dlatents = Gs.components.mapping.run(dst_latents, None) # [seed, layer, component]\n",
        "    src_images = Gs.components.synthesis.run(src_dlatents, randomize_noise=False, **synthesis_kwargs)\n",
        "    dst_images = Gs.components.synthesis.run(dst_dlatents, randomize_noise=False, **synthesis_kwargs)\n",
        "    \n",
        "    canvas = PIL.Image.new('RGB', (w * (len(src_seeds) + 1), h * 5), 'white')\n",
        "    for col, src_image in enumerate(list(src_images)):\n",
        "        canvas.paste(PIL.Image.fromarray(src_image, 'RGB'), ((col + 1) * w, 0))\n",
        "    for row, dst_image in enumerate(list(dst_images)):\n",
        "        canvas.paste(PIL.Image.fromarray(dst_image, 'RGB'), (0, (row + 1) * h))  \n",
        "        row_dlatents = np.stack([dst_dlatents[row]] * len(src_seeds))\n",
        "        row_dlatents[:, style_ranges[row]] = src_dlatents[:, style_ranges[row]]\n",
        "        row_images = Gs.components.synthesis.run(row_dlatents, randomize_noise=False, **synthesis_kwargs)\n",
        "        for col, image in enumerate(list(row_images)):\n",
        "            canvas.paste(PIL.Image.fromarray(image, 'RGB'), ((col + 1) * w, (row + 1) * h)) \n",
        "             \n",
        "    png_filename = os.path.join(config.result_dir, 'style_mix.png')\n",
        "    canvas.save(png_filename)\n",
        "\n",
        "# --------------- main -----------------\n",
        "\n",
        "def main():\n",
        "    tflib.init_tf()\n",
        "    os.makedirs(config.result_dir, exist_ok=True)\n",
        "    draw_style_mixing_figure(os.path.join(config.result_dir, 'style_mix.png'), load_Gs(url_ffhq), w=1024, h=1024, \n",
        "                                                   src_seeds=[11,701,583], dst_seeds=[888,829,1898,1733,1614,845], \n",
        "                                                   style_ranges=[range(0,4)]*4)  # style_mixingのレンジ指定\n",
        "\n",
        "if __name__ == \"__main__\":\n",
        "    main()"
      ],
      "execution_count": 0,
      "outputs": []
    }
  ]
}